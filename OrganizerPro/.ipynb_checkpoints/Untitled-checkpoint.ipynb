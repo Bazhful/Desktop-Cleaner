{
 "cells": [
  {
   "cell_type": "code",
   "execution_count": 3,
   "id": "2a6a1384-7456-4dc3-88f7-34ca74200d75",
   "metadata": {},
   "outputs": [],
   "source": [
    "import os\n",
    "import shutil\n",
    "from extlist import *\n",
    "import time\n",
    "import argparse\n",
    "import datetime\n",
    "from openai import OpenAI\n",
    "import importlib.resources as pkg_resources\n",
    "\n",
    "\n",
    "class PCSorter:\n",
    "    \"\"\"\n",
    "    File/Folder cleaner.\n",
    "    :param x: restore file name. string\n",
    "    :return: none\n",
    "    \"\"\"\n",
    "\n",
    "\n",
    "    files = []\n",
    "    sub_folders = []\n",
    "    sub_files = []\n",
    "    tmp_list = []\n",
    "    dir_containing_files = []\n",
    "\n",
    "\n",
    "    def __init__(self, model, directory, is_backup):\n",
    "\n",
    "        self.is_backup = is_backup\n",
    "        self.directory = directory\n",
    "        self.model = model\n",
    "        self.client = OpenAI(api_key=os.environ['OPENAI_API_KEY'])\n",
    "        self.chatbot = \"\"\n",
    "        with open(\"./data/chatbot.txt\") as file:\n",
    "            self.chatbot = file.read()\n",
    "\n",
    "    def _restore(self):\n",
    "        \"\"\"\n",
    "        Restore previous cleaning session\n",
    "        :return: none\n",
    "        \"\"\"\n",
    "        try:\n",
    "            with open(self.resetname, \"r\") as f:\n",
    "                print(\"Opening restore file...\")\n",
    "                lines = f.readlines()\n",
    "                for i in lines:\n",
    "                    restore_dir = i\n",
    "                    restore_dir = restore_dir.split(\"###\")\n",
    "\n",
    "                    program_name = r\"{}\".format(restore_dir[0].replace(\"\\n\", \"\"))\n",
    "                    restore_path = r\"{}\".format(restore_dir[1].replace(\"\\n\", \"\"))\n",
    "                    curry_path = r\"{}\".format(restore_dir[2].replace(\"\\n\", \"\"))\n",
    "                    restore_path = os.path.join(restore_path.strip())\n",
    "                    cur_path = os.path.join(curry_path)\n",
    "                    if os.path.exists(cur_path):\n",
    "                        res_path = restore_path.replace(program_name, \"\")\n",
    "                        res_path = os.path.join(res_path)\n",
    "                        if os.path.exists(res_path):\n",
    "                            shutil.move(cur_path, restore_path)\n",
    "                        else:\n",
    "                            os.makedirs(res_path)\n",
    "                            shutil.move(cur_path, restore_path)\n",
    "                print(\"All files have been restored...\")\n",
    "            # Delete old folders after restorting. \n",
    "            for i in ext_dir:\n",
    "                cur_path = os.path.join(self.current_path, i)\n",
    "                if os.path.isdir(cur_path):\n",
    "                    shutil.rmtree(cur_path)\n",
    "                else:\n",
    "                    pass\n",
    "                    #print(\"Couldnt delete directory.\")\n",
    "            os.remove(self.resetname)\n",
    "            print(\"All old sort folders have been deleted...\")\n",
    "            time.sleep(2)\n",
    "        except FileNotFoundError:\n",
    "            print(\"The file was not found..\")\n",
    "        except:\n",
    "            print(\"Unkown Error.\")\n",
    "\n",
    "    def _backup(self):\n",
    "        \"\"\"\n",
    "        Backup function\n",
    "        \"\"\"\n",
    "        if not os.path.isdir(\"Backup\"):\n",
    "            os.mkdir(\"Backup\")\n",
    "        else:\n",
    "            print(\"Folder already created\")\n",
    "\n",
    "        current_files = os.listdir(\".\")\n",
    "        for i in current_files:\n",
    "            try:\n",
    "                shutil.copy(i, \"./Backup\")\n",
    "            except:\n",
    "                print(\"File {} couldn't be moved. Unkown reason!\".format(i))\n",
    "        time.sleep(2)\n",
    "\n",
    "    def _searchfiles(self, filename):\n",
    "        \"\"\"\n",
    "        Search files.\n",
    "        :param x: filename string\n",
    "        :return: path of file string\n",
    "        \"\"\"\n",
    "\n",
    "        if len(self.full_list) == 0:\n",
    "            self._listfiles()\n",
    "\n",
    "        for i in self.full_list:\n",
    "            x2 = i.split(\"\\\\\")\n",
    "            x2 = x2[-1]\n",
    "            if filename in x2:\n",
    "                print(\"We found your file its located, at {}\".format(i))\n",
    "                return i\n",
    "    def _listfiles(self, include_subdirs=True):\n",
    "        \"\"\"\n",
    "        Scans the specified directory and its subdirectories for files, excluding certain files.\n",
    "        If include_subdirs is False, only files from the root directory are returned.\n",
    "        Returns a tuple of two lists: (all_files, all_directories).\n",
    "        \"\"\"\n",
    "        excluded_files = {'cleaner.py', 'extlist.py'}\n",
    "        all_files = []\n",
    "        all_directories = []\n",
    "\n",
    "        for root, dirs, files in os.walk(self.directory):\n",
    "            if root != os.path.normpath(self.directory) and not include_subdirs:\n",
    "                continue  # Skip subdirectories\n",
    "            all_directories.append(root)\n",
    "            for file in files:\n",
    "                if file not in excluded_files:\n",
    "                    all_files.append(os.path.join(root, file))\n",
    "\n",
    "        return all_files, all_directories\n",
    "\n",
    "\n",
    "    def _create_sort_folders(self, ext_dict):\n",
    "            print(\"Creating folders...\")\n",
    "            for i in ext_dict:\n",
    "                ext_path_dir = ext_dict[i]\n",
    "                if os.path.isdir(\"./{}\".format(ext_path_dir)):\n",
    "                    print(\"Folder -> {} already exists\".format(ext_path_dir))\n",
    "                    continue\n",
    "                else:\n",
    "                    print(\"Created Folders -> {}\".format(ext_path_dir))    \n",
    "                    os.makedirs(\"{}\".format(ext_path_dir))\n",
    "            return True\n",
    "\n",
    "\n",
    "    def _write_restore_file(self, lists):\n",
    "        try:\n",
    "            with open(self.resetname, \"w\") as f:\n",
    "                for i in lists:\n",
    "                    f.write(i)\n",
    "                f.close()\n",
    "        except:\n",
    "            print(\"_write_restore_file ERROR\")\n",
    "\n",
    "\n",
    "    def _sort_files(self, filenames):\n",
    "\n",
    "        tmp_list = []\n",
    "        dir_containing_files = []   \n",
    "        print(\"Sorting Files...\")\n",
    "        for i in filenames:\n",
    "            file_ext = os.path.splitext(i)\n",
    "            for ext_key in extension_paths:               \n",
    "                if file_ext[1] == ext_key:   \n",
    "                    spec_dir = extension_paths[\"{}\".format(ext_key)]\n",
    "\n",
    "                    file_name = i.split(\"\\\\\")\n",
    "                    file_name = file_name[-1]\n",
    "\n",
    "                    file_path = os.path.join(self.current_path, spec_dir, file_name)               \n",
    "                    path = os.path.join(self.current_path, spec_dir)\n",
    "                    old_path = os.path.join(i)\n",
    "                    if not os.path.exists(file_path):\n",
    "                        tmp_list.append(\"{}###{}###{} \\n\".format(file_name, old_path, file_path))\n",
    "                        time.sleep(0.01)\n",
    "                        try:\n",
    "                            shutil.move(i, path)\n",
    "                        except:\n",
    "                            #print(\"Couldnt move the file.\")\n",
    "                            dir_containing_files.append(os.path.join(file_ext[0]))\n",
    "                        break\n",
    "        print(\"Writing files to restore.txt\")\n",
    "        return dir_containing_files, tmp_list\n",
    "\n",
    "    def _delete_sorted_folders(self, none_sorted, sub_folders):\n",
    "        for i in sub_folders:\n",
    "            if i in none_sorted:\n",
    "                continue\n",
    "            else:\n",
    "                try:\n",
    "                    shutil.rmtree(os.path.join(i))\n",
    "                except:\n",
    "                    print(\"Couldnt delete folder\")\n",
    "\n",
    "\n",
    "\n",
    "    def _clean_dirs(self):\n",
    "        \n",
    "        today = time.strftime('%Y-%m-%d', time.localtime())\n",
    "        today = today.split(\"-\")\n",
    "        today_days = ((int(today[0]) * 365 ) + (int(today[1]) * 30) + int(today[2])) \n",
    "\n",
    "        for i in self.full_list:\n",
    "            epoch_time = os.path.getatime(i)\n",
    "            last_accessed = time.strftime('%Y-%m-%d', time.localtime(epoch_time))\n",
    "            last_accessed = last_accessed.split(\"-\")\n",
    "\n",
    "            last_accessed_days = ((int(last_accessed[0]) * 365 ) + (int(last_accessed[1]) * 30) + int(last_accessed[2]))\n",
    "\n",
    "            diff = today_days - last_accessed_days\n",
    "\n",
    "            # Meaning the file is older then 90 days.\n",
    "            if diff > 90:\n",
    "                print(\"delete file.\")\n",
    "\n",
    "    def _chatgpt(self, user_input, model=\"gpt-4-1106-preview\", temperature=0, max_tokens=500):\n",
    "        # Prepare messages for the conversation\n",
    "        formatted_conversation = [{\"role\": \"system\", \"content\": self.chatbot}]\n",
    "        formatted_conversation.append({\"role\": \"user\", \"content\": user_input})\n",
    "\n",
    "        # Create the chat completion using the new API method\n",
    "        completion = self.client.chat.completions.create(\n",
    "            model=model,\n",
    "            messages=formatted_conversation,\n",
    "            temperature=temperature,\n",
    "            max_tokens=max_tokens\n",
    "        )\n",
    "\n",
    "        # Extract the response\n",
    "        if completion.choices and completion.choices[0].message:\n",
    "            chat_response = completion.choices[0].message.content\n",
    "        else:\n",
    "            chat_response = \"No response generated.\"\n",
    "\n",
    "        return chat_response    \n"
   ]
  },
  {
   "cell_type": "code",
   "execution_count": 4,
   "id": "d00aa4a8-3c05-48a0-8067-0eeb1d74a5fa",
   "metadata": {},
   "outputs": [],
   "source": [
    "import os\n",
    "# class ins\n",
    "sorter = PCSorter(\"gpt4\", os.getcwd(), True)"
   ]
  },
  {
   "cell_type": "code",
   "execution_count": 1,
   "id": "f49bb413-7f70-48af-9edb-892c74162b19",
   "metadata": {},
   "outputs": [
    {
     "ename": "NameError",
     "evalue": "name 'sorter' is not defined",
     "output_type": "error",
     "traceback": [
      "\u001b[1;31m---------------------------------------------------------------------------\u001b[0m",
      "\u001b[1;31mNameError\u001b[0m                                 Traceback (most recent call last)",
      "Cell \u001b[1;32mIn[1], line 1\u001b[0m\n\u001b[1;32m----> 1\u001b[0m files, dirs \u001b[38;5;241m=\u001b[39m \u001b[43msorter\u001b[49m\u001b[38;5;241m.\u001b[39m_listfiles()\n\u001b[0;32m      2\u001b[0m \u001b[38;5;28mprint\u001b[39m(files)\n\u001b[0;32m      4\u001b[0m exit(\u001b[38;5;241m0\u001b[39m)\n",
      "\u001b[1;31mNameError\u001b[0m: name 'sorter' is not defined"
     ]
    }
   ],
   "source": [
    "files, dirs = sorter._listfiles()\n",
    "print(files)\n",
    "\n",
    "exit(0)\n",
    "# Normalize the base directory path for consistent comparison\n",
    "normalized_base_dir = os.path.normpath(os.getcwd())\n",
    "\n",
    "only_root_files = []\n",
    "for f in files:\n",
    "    file_dir = os.path.normpath(os.path.dirname(f))\n",
    "    if file_dir == normalized_base_dir:\n",
    "        only_root_files.append(f)\n",
    "    else:\n",
    "        # Logging to understand why a file is excluded\n",
    "        print(f\"Excluded: {f}, File dir: {file_dir}, Base dir: {normalized_base_dir}\")\n",
    "\n",
    "# If you need just the filenames, not the full path\n",
    "only_filename = [os.path.basename(f) for f in only_root_files]\n"
   ]
  },
  {
   "cell_type": "code",
   "execution_count": 24,
   "id": "374cbe8a-eda4-4788-8478-3a9a1cc4b043",
   "metadata": {},
   "outputs": [
    {
     "data": {
      "text/plain": [
       "'```json\\n{\\n  \"Invoices\": [\"Invoice_4.pdf\", \"Invoice_5.pdf\"],\\n  \"MeetingNotes\": [\"MeetingNotes_1.txt\", \"MeetingNotes_2.txt\", \"MeetingNotes_3.txt\", \"MeetingNotes_4.txt\", \"MeetingNotes_5.txt\"],\\n  \"Photos\": [\"Photos—l.jpg\", \"Photos_2.jpg\", \"Photos_3.jpg\", \"Photos_4.jpg\", \"Photos_5.jpg\"],\\n  \"Projects\": [\"Projects_l.docx\", \"Projects_2.docx\", \"Projects_3.docx\", \"Projects_4.docx\", \"Project_5.docx\"]\\n}\\n```'"
      ]
     },
     "execution_count": 24,
     "metadata": {},
     "output_type": "execute_result"
    }
   ],
   "source": [
    "conversation_history = [\n",
    "    {\"role\": \"user\", \"content\": \"Hello, how are you?\"},\n",
    "    {\"role\": \"system\", \"content\": \"I am a chatbot designed to assist with a wide range of questions.\"}\n",
    "]\n",
    "\n",
    "sorter._chatgpt(user_input = \"\"\"Invoice_4.pdf\n",
    "Invoice_5.pdf\n",
    "MeetingNotes_1.txt\n",
    "MeetingNotes_2.txt\n",
    "MeetingNotes_3.txt\n",
    "MeetingNotes_4.txt\n",
    "MeetingNotes_5.txt\n",
    "Photos—l.jpg\n",
    "Photos_2.jpg\n",
    "Photos_3.jpg\n",
    "Photos_4.jpg\n",
    "Photos_5.jpg\n",
    "Projects_l.docx\n",
    "Projects_2.docx\n",
    "Projects_3.docx\n",
    "Projects_4.docx\n",
    "Project_5.docx\n",
    "\"\"\")"
   ]
  },
  {
   "cell_type": "code",
   "execution_count": 1,
   "id": "227ca24c-5288-4007-9868-09e5e90a0ce6",
   "metadata": {},
   "outputs": [
    {
     "name": "stdout",
     "output_type": "stream",
     "text": [
      "main.py\n"
     ]
    }
   ],
   "source": [
    "import os\n",
    "\n",
    "# Given file path\n",
    "file_path = r\"C:\\Users\\chriek01\\Documents\\GitHub\\Desktop-Cleaner\\OrganizerPro\\main.py\"\n",
    "\n",
    "# Extract the filename\n",
    "file_name = os.path.basename(file_path)\n",
    "\n",
    "print(file_name)\n"
   ]
  },
  {
   "cell_type": "code",
   "execution_count": 9,
   "id": "f6bebc18-057c-4f88-b30d-4d1586de760d",
   "metadata": {},
   "outputs": [],
   "source": [
    "input_str = \"\"\"input: Hello my name is Christopher EK and I love \n",
    "```json\\n{\\n  \"Invoices\": [\"Invoice_4.pdf\", \"Invoice_5.pdf\"],\\n \n",
    "\"MeetingNotes\": [\"MeetingNotes_1.txt\", \"MeetingNotes_2.txt\", \"MeetingNotes_3.txt\", \n",
    "\"MeetingNotes_4.txt\", \"MeetingNotes_5.txt\"],\\n  \"Photos\": [\"Photos—l.jpg\", \"Photos_2.jpg\", \n",
    "\"Photos_3.jpg\", \"Photos_4.jpg\", \"Photos_5.jpg\"],\\n  \"Projects\": [\"Projects_l.docx\", \n",
    "\"Projects_2.docx\", \"Projects_3.docx\", \"Projects_4.docx\", \"Project_5.docx\"]\\n}\\\n",
    "\"\"\"\n",
    "\n"
   ]
  },
  {
   "cell_type": "code",
   "execution_count": 10,
   "id": "4900dadc-58e8-4412-9e6c-1ddee13b97d1",
   "metadata": {},
   "outputs": [],
   "source": [
    "import re\n",
    "\n",
    "def remove_text_before_first_opening_brace_and_after_last_closing_brace(input_str):\n",
    "    # Find the index of the first '{' character\n",
    "    start_index = input_str.find('{')\n",
    "    \n",
    "    # Find the index of the last '}' character\n",
    "    end_index = input_str.rfind('}')\n",
    "\n",
    "    if start_index != -1 and end_index != -1:\n",
    "        # Slice the string to remove text before the first '{' and after the last '}'\n",
    "        result_str = input_str[start_index:end_index+1]\n",
    "        return result_str\n",
    "    else:\n",
    "        return \"No '{' or '}' characters found in the input string.\"\n",
    "        "
   ]
  },
  {
   "cell_type": "code",
   "execution_count": 11,
   "id": "8a9325cd-868c-4d1e-a989-a8d2dd5c5723",
   "metadata": {},
   "outputs": [
    {
     "data": {
      "text/plain": [
       "'{\\n  \"Invoices\": [\"Invoice_4.pdf\", \"Invoice_5.pdf\"],\\n \\n\"MeetingNotes\": [\"MeetingNotes_1.txt\", \"MeetingNotes_2.txt\", \"MeetingNotes_3.txt\", \\n\"MeetingNotes_4.txt\", \"MeetingNotes_5.txt\"],\\n  \"Photos\": [\"Photos—l.jpg\", \"Photos_2.jpg\", \\n\"Photos_3.jpg\", \"Photos_4.jpg\", \"Photos_5.jpg\"],\\n  \"Projects\": [\"Projects_l.docx\", \\n\"Projects_2.docx\", \"Projects_3.docx\", \"Projects_4.docx\", \"Project_5.docx\"]\\n}'"
      ]
     },
     "execution_count": 11,
     "metadata": {},
     "output_type": "execute_result"
    }
   ],
   "source": [
    "remove_text_before_first_opening_brace_and_after_last_closing_brace(input_str)"
   ]
  },
  {
   "cell_type": "code",
   "execution_count": 13,
   "id": "1d73c296-b27f-48e6-acd0-4c73a61af2a9",
   "metadata": {},
   "outputs": [
    {
     "name": "stdout",
     "output_type": "stream",
     "text": [
      "Folder: Invoices\n",
      "  - Invoice_4.pdf\n",
      "  - Invoice_5.pdf\n",
      "Folder: MeetingNotes\n",
      "  - MeetingNotes_1.txt\n",
      "  - MeetingNotes_2.txt\n",
      "  - MeetingNotes_3.txt\n",
      "  - MeetingNotes_4.txt\n",
      "  - MeetingNotes_5.txt\n",
      "Folder: Photos\n",
      "  - Photos—l.jpg\n",
      "  - Photos_2.jpg\n",
      "  - Photos_3.jpg\n",
      "  - Photos_4.jpg\n",
      "  - Photos_5.jpg\n",
      "Folder: Projects\n",
      "  - Projects_l.docx\n",
      "  - Projects_2.docx\n",
      "  - Projects_3.docx\n",
      "  - Projects_4.docx\n",
      "  - Project_5.docx\n"
     ]
    }
   ],
   "source": [
    "import json\n",
    "\n",
    "# Your JSON data as a string\n",
    "json_data = '''\n",
    "{\n",
    "  \"Invoices\": [\"Invoice_4.pdf\", \"Invoice_5.pdf\"],\n",
    "  \"MeetingNotes\": [\"MeetingNotes_1.txt\", \"MeetingNotes_2.txt\", \"MeetingNotes_3.txt\", \"MeetingNotes_4.txt\", \"MeetingNotes_5.txt\"],\n",
    "  \"Photos\": [\"Photos—l.jpg\", \"Photos_2.jpg\", \"Photos_3.jpg\", \"Photos_4.jpg\", \"Photos_5.jpg\"],\n",
    "  \"Projects\": [\"Projects_l.docx\", \"Projects_2.docx\", \"Projects_3.docx\", \"Projects_4.docx\", \"Project_5.docx\"]\n",
    "}\n",
    "'''\n",
    "\n",
    "# Parse the JSON data into a Python dictionary\n",
    "data_dict = json.loads(json_data)\n",
    "\n",
    "# Define a function to print the folder structure\n",
    "def print_folder_structure(data, indent=\"\"):\n",
    "    for folder, files in data.items():\n",
    "        print(indent + f\"Folder: {folder}\")\n",
    "        for file in files:\n",
    "            print(indent + f\"  - {file}\")\n",
    "\n",
    "# Print the folder structure\n",
    "print_folder_structure(data_dict)\n"
   ]
  },
  {
   "cell_type": "code",
   "execution_count": 11,
   "id": "6ebdcc82-e9ca-4a99-83c7-bfc1186ee5e3",
   "metadata": {},
   "outputs": [
    {
     "name": "stdout",
     "output_type": "stream",
     "text": [
      "['extlist.py', 'main.py', 'Untitled.ipynb', '__init__.py']\n",
      "['Untitled-checkpoint.ipynb']\n",
      "['chatbot.txt']\n",
      "['extlist.cpython-310.pyc', 'extlist.cpython-311.pyc']\n"
     ]
    }
   ],
   "source": [
    "import os\n",
    "for root, dirs, files in os.walk(os.getcwd()):\n",
    "    print(files)\n"
   ]
  },
  {
   "cell_type": "code",
   "execution_count": 34,
   "id": "7616afbb-6425-485c-b245-8ea98726c8d6",
   "metadata": {},
   "outputs": [
    {
     "name": "stdout",
     "output_type": "stream",
     "text": [
      "['./test\\\\extlist.py'] []\n",
      "./test\\extlist.py\n"
     ]
    }
   ],
   "source": [
    "# Assuming 'test' is the directory you want to walk through\n",
    "base_directory = \"./test\"\n",
    "all_files = []\n",
    "all_directories = []\n",
    "old_file = []\n",
    "\n",
    "for root, dirs, files in os.walk(base_directory):\n",
    "    for file in files:\n",
    "        all_files.append(os.path.join(root, file))\n",
    "    for dir in dirs:\n",
    "        all_directories.append(os.path.join(root, dir))\n",
    "\n",
    "print(all_files, all_directories)\n",
    "\n",
    "old_file.append(all_files[0]))"
   ]
  },
  {
   "cell_type": "code",
   "execution_count": 42,
   "id": "3b1e0413-eaf1-4f1f-98db-e8d004d9b00c",
   "metadata": {},
   "outputs": [
    {
     "name": "stdout",
     "output_type": "stream",
     "text": [
      "['.\\\\extlist.py'] ['./test\\\\extlist.py']\n"
     ]
    }
   ],
   "source": [
    "base_directory = \".\"\n",
    "all_files = []\n",
    "all_directories = []\n",
    "new_file = []\n",
    "old_file= [\"./test\\extlist.py\"]\n",
    "for root, dirs, files in os.walk(base_directory):\n",
    "    for file in files:\n",
    "        all_files.append(os.path.join(root, file))\n",
    "    for dir in dirs:\n",
    "        all_directories.append(os.path.join(root, dir))\n",
    "\n",
    "\n",
    "new_file.append(all_files[0])\n",
    "print(new_file, old_file)"
   ]
  },
  {
   "cell_type": "code",
   "execution_count": 45,
   "id": "442da1dd-7d3a-43fa-aa19-7c1a2e28e3b4",
   "metadata": {},
   "outputs": [
    {
     "data": {
      "text/plain": [
       "'./test\\\\extlist.py'"
      ]
     },
     "execution_count": 45,
     "metadata": {},
     "output_type": "execute_result"
    }
   ],
   "source": [
    "shutil.move(os.path.join(new_file[0]), os.path.join(old_file[0]))"
   ]
  },
  {
   "cell_type": "code",
   "execution_count": 47,
   "id": "0485c662-0ab6-49d4-afd1-f41b0a669899",
   "metadata": {},
   "outputs": [
    {
     "name": "stdout",
     "output_type": "stream",
     "text": [
      "All files created in 'output_files' directory.\n"
     ]
    }
   ],
   "source": [
    "import os\n",
    "\n",
    "# List of file names to be created\n",
    "file_names = [\n",
    "    \"Invoice_4.pdf\", \"Invoice_5.pdf\",\n",
    "    \"MeetingNotes_1.txt\", \"MeetingNotes_2.txt\", \"MeetingNotes_3.txt\", \"MeetingNotes_4.txt\", \"MeetingNotes_5.txt\",\n",
    "    \"Photos_1.jpg\", \"Photos_2.jpg\", \"Photos_3.jpg\", \"Photos_4.jpg\", \"Photos_5.jpg\",\n",
    "    \"Projects_1.docx\", \"Projects_2.docx\", \"Projects_3.docx\", \"Projects_4.docx\", \"Projects_5.docx\"\n",
    "]\n",
    "\n",
    "# Directory where the files will be created\n",
    "output_dir = \"output_files\"\n",
    "\n",
    "# Create the directory if it doesn't exist\n",
    "os.makedirs(output_dir, exist_ok=True)\n",
    "\n",
    "# Create each file\n",
    "for file_name in file_names:\n",
    "    file_path = os.path.join(output_dir, file_name)\n",
    "    with open(file_path, 'w') as file:\n",
    "        pass  # Just creating an empty file\n",
    "\n",
    "print(f\"All files created in '{output_dir}' directory.\")\n"
   ]
  },
  {
   "cell_type": "code",
   "execution_count": 60,
   "id": "22c220a0-f4f9-4f6c-b5c3-f5d94b9b091f",
   "metadata": {},
   "outputs": [
    {
     "data": {
      "text/plain": [
       "'C:\\\\Users\\\\chriek01\\\\Documents\\\\GitHub\\\\Desktop-Cleaner\\\\OrganizerPro'"
      ]
     },
     "execution_count": 60,
     "metadata": {},
     "output_type": "execute_result"
    }
   ],
   "source": [
    "x =  os.getcwd()\n",
    "type(x)\n",
    "x"
   ]
  },
  {
   "cell_type": "code",
   "execution_count": 69,
   "id": "71cf90bb-1e24-4841-850e-067471f67b85",
   "metadata": {},
   "outputs": [
    {
     "name": "stdout",
     "output_type": "stream",
     "text": [
      "Original Path: C:\\Users\\chriek01\\Documents\\GitHub\\Desktop-Cleaner\\OrganizerPro\\output_files\n",
      "Escaped Path: C:\\Users\\chriek01\\Documents\\GitHub\\Desktop-Cleaner\\OrganizerPro\n"
     ]
    },
    {
     "data": {
      "text/plain": [
       "['Invoice_4.pdf',\n",
       " 'Invoice_5.pdf',\n",
       " 'MeetingNotes_1.txt',\n",
       " 'MeetingNotes_2.txt',\n",
       " 'MeetingNotes_3.txt',\n",
       " 'MeetingNotes_4.txt',\n",
       " 'MeetingNotes_5.txt',\n",
       " 'Photos_1.jpg',\n",
       " 'Photos_2.jpg',\n",
       " 'Photos_3.jpg',\n",
       " 'Photos_4.jpg',\n",
       " 'Photos_5.jpg',\n",
       " 'Projects_1.docx',\n",
       " 'Projects_2.docx',\n",
       " 'Projects_3.docx',\n",
       " 'Projects_4.docx',\n",
       " 'Projects_5.docx']"
      ]
     },
     "execution_count": 69,
     "metadata": {},
     "output_type": "execute_result"
    }
   ],
   "source": [
    "def escape_path(path):\n",
    "    return repr(path)\n",
    "r\n",
    "# Example usage\n",
    "path = r\"C:\\Users\\chriek01\\Documents\\GitHub\\Desktop-Cleaner\\OrganizerPro\\output_files\"\n",
    "y = os.getcwd()\n",
    "print(\"Original Path:\", path)\n",
    "print(\"Escaped Path:\", y)\n",
    "os.listdir(path)"
   ]
  },
  {
   "cell_type": "code",
   "execution_count": 103,
   "id": "67827b4d-ccec-440f-a34f-59fc476d52a1",
   "metadata": {},
   "outputs": [
    {
     "name": "stdout",
     "output_type": "stream",
     "text": [
      "Folder 'Folder_test' created successfully\n",
      "Error moving file 'test.txt': [Errno 2] No such file or directory: 'test.txt'\n"
     ]
    }
   ],
   "source": [
    "import json\n",
    "import os\n",
    "import shutil\n",
    "\n",
    "def sort_files(json_response: str) -> None:\n",
    "    \"\"\"\n",
    "    Sorts files into directories based on a given JSON response.\n",
    "\n",
    "    Parameters:\n",
    "    json_response (str): A JSON string mapping folder names to file lists.\n",
    "\n",
    "    Returns:\n",
    "    None: This function does not return anything but sorts files into folders.\n",
    "    \"\"\"\n",
    "    file_movements: List[str] = []  # List to record the movements of files\n",
    "\n",
    "    # Parse JSON data from the response\n",
    "    try:\n",
    "        json_data: Dict[str, List[str]] = json.loads(json_response)\n",
    "    except json.JSONDecodeError as error:\n",
    "        print(f\"Error decoding JSON: {error}\")\n",
    "        return\n",
    "\n",
    "    for folder, files in json_data.items():\n",
    "        # Create the target folder path\n",
    "        folder_path: str = os.path.join(os.getcwd(), folder)\n",
    "\n",
    "        # Try creating the folder and handle any exceptions\n",
    "        try:\n",
    "            os.makedirs(folder_path, exist_ok=True)\n",
    "            print(f\"Folder '{folder}' created successfully\")\n",
    "        except OSError as error:\n",
    "            print(f\"Creation of the folder '{folder_path}' failed: {error}\")\n",
    "            continue  # Skip to next folder if current folder creation fails\n",
    "\n",
    "        for file_name in files:\n",
    "            original_path: str = file_name\n",
    "            new_path: str = os.path.join(folder_path, os.path.basename(file_name))\n",
    "\n",
    "            # Attempt to move the file and handle exceptions\n",
    "            try:\n",
    "                shutil.move(original_path, new_path)\n",
    "                file_movements.append(f\"{os.path.join(os.getcwd(),original_path)}###{new_path}\\n\")\n",
    "            except (FileNotFoundError, PermissionError, shutil.Error) as error:\n",
    "                print(f\"Error moving file '{original_path}': {error}\")\n",
    "\n",
    "    # Write the file movements to a restore file\n",
    "    try:\n",
    "        with open('restore.txt', 'w') as file:\n",
    "            for movement in file_movements:\n",
    "                file.write(movement)\n",
    "    except OSError as error:\n",
    "        print(f\"Error writing to restore.txt: {error}\")\n",
    "\n",
    "# Example usage\n",
    "# sorter = FileSorter(\"/path/to/directory\")\n",
    "# sorter.sort_files(json_response)\n",
    "\n",
    "json_input = '{\"Folder_test\": [\"test.txt\"]}'\n",
    "sort_files(json_input)\n",
    "\n"
   ]
  },
  {
   "cell_type": "code",
   "execution_count": 81,
   "id": "52329b41-55b7-4e6e-bf83-870359db0c6f",
   "metadata": {},
   "outputs": [
    {
     "name": "stdout",
     "output_type": "stream",
     "text": [
      "Restored C:\\Users\\chriek01\\Documents\\GitHub\\Desktop-Cleaner\\OrganizerPro\\Folder_test\\test.txt to C:\\Users\\chriek01\\Documents\\GitHub\\Desktop-Cleaner\\OrganizerPro\\test.txt\n"
     ]
    }
   ],
   "source": [
    "def restore_files(restore_file='restore.txt'):\n",
    "    with open(restore_file, 'r') as file:\n",
    "        for line in file:\n",
    "            original_path, new_path = line.strip().split('###')\n",
    "            shutil.move(new_path, original_path)\n",
    "            print(f\"Restored {new_path} to {original_path}\")\n",
    "\n",
    "restore_files()"
   ]
  },
  {
   "cell_type": "code",
   "execution_count": 112,
   "id": "62aa4be4-fac8-4a10-a63c-4ae8d7f54865",
   "metadata": {},
   "outputs": [],
   "source": [
    "def sort_files(json_response):\n",
    "    file_movements = []\n",
    "    # Create folders\n",
    "    json_data = json.loads(json_response)\n",
    "    for folder, files in json_data.items():\n",
    "        # Create the folders\n",
    "        folder_path = os.path.join(os.getcwd(), folder)\n",
    "        print(folder_path)\n",
    "        try:\n",
    "            os.makedirs(folder_path)\n",
    "            print(\"Folders created\")\n",
    "        except OSError as error:\n",
    "            print(f\"Creation of the folder '{folder_path}' failed\")\n",
    "            print(error)\n",
    "        for i in files:\n",
    "            # Move files to corresponding folder\n",
    "            shutil.move(i, folder_path)\n",
    "        for i in files:\n",
    "            original_path = i\n",
    "            print(\"test\",original_path)\n",
    "            new_path = os.path.join(folder_path, os.path.basename(i))\n",
    "            file_movements.append(f\"{original_path}###{new_path}\\n\")  # Record the file movement\n",
    "            print(\"movetest\", original_path)\n",
    "            shutil.move(original_path, folder_path)\n",
    "    with open('restore.txt', 'w') as file:\n",
    "        for movement in file_movements:\n",
    "            file.write(movement)"
   ]
  },
  {
   "cell_type": "code",
   "execution_count": 113,
   "id": "253afef2-2de2-430a-964a-364afa263ac4",
   "metadata": {},
   "outputs": [
    {
     "name": "stdout",
     "output_type": "stream",
     "text": [
      "C:\\Users\\chriek01\\Documents\\GitHub\\Desktop-Cleaner\\OrganizerPro\\Folder_test\n",
      "Folders created\n"
     ]
    },
    {
     "ename": "NameError",
     "evalue": "name 'orginal_path' is not defined",
     "output_type": "error",
     "traceback": [
      "\u001b[1;31m---------------------------------------------------------------------------\u001b[0m",
      "\u001b[1;31mNameError\u001b[0m                                 Traceback (most recent call last)",
      "Cell \u001b[1;32mIn[113], line 2\u001b[0m\n\u001b[0;32m      1\u001b[0m json_input \u001b[38;5;241m=\u001b[39m \u001b[38;5;124m'\u001b[39m\u001b[38;5;124m{\u001b[39m\u001b[38;5;124m\"\u001b[39m\u001b[38;5;124mFolder_test\u001b[39m\u001b[38;5;124m\"\u001b[39m\u001b[38;5;124m: [\u001b[39m\u001b[38;5;124m\"\u001b[39m\u001b[38;5;124mtest.txt\u001b[39m\u001b[38;5;124m\"\u001b[39m\u001b[38;5;124m]}\u001b[39m\u001b[38;5;124m'\u001b[39m\n\u001b[1;32m----> 2\u001b[0m \u001b[43msort_files\u001b[49m\u001b[43m(\u001b[49m\u001b[43mjson_input\u001b[49m\u001b[43m)\u001b[49m\n",
      "Cell \u001b[1;32mIn[112], line 20\u001b[0m, in \u001b[0;36msort_files\u001b[1;34m(json_response)\u001b[0m\n\u001b[0;32m     18\u001b[0m \u001b[38;5;28;01mfor\u001b[39;00m i \u001b[38;5;129;01min\u001b[39;00m files:\n\u001b[0;32m     19\u001b[0m     original_path \u001b[38;5;241m=\u001b[39m i\n\u001b[1;32m---> 20\u001b[0m     \u001b[38;5;28mprint\u001b[39m(\u001b[38;5;124m\"\u001b[39m\u001b[38;5;124mtest\u001b[39m\u001b[38;5;124m\"\u001b[39m,\u001b[43morginal_path\u001b[49m)\n\u001b[0;32m     21\u001b[0m     new_path \u001b[38;5;241m=\u001b[39m os\u001b[38;5;241m.\u001b[39mpath\u001b[38;5;241m.\u001b[39mjoin(folder_path, os\u001b[38;5;241m.\u001b[39mpath\u001b[38;5;241m.\u001b[39mbasename(i))\n\u001b[0;32m     22\u001b[0m     file_movements\u001b[38;5;241m.\u001b[39mappend(\u001b[38;5;124mf\u001b[39m\u001b[38;5;124m\"\u001b[39m\u001b[38;5;132;01m{\u001b[39;00moriginal_path\u001b[38;5;132;01m}\u001b[39;00m\u001b[38;5;124m###\u001b[39m\u001b[38;5;132;01m{\u001b[39;00mnew_path\u001b[38;5;132;01m}\u001b[39;00m\u001b[38;5;130;01m\\n\u001b[39;00m\u001b[38;5;124m\"\u001b[39m)  \u001b[38;5;66;03m# Record the file movement\u001b[39;00m\n",
      "\u001b[1;31mNameError\u001b[0m: name 'orginal_path' is not defined"
     ]
    }
   ],
   "source": [
    "json_input = '{\"Folder_test\": [\"test.txt\"]}'\n",
    "sort_files(json_input)"
   ]
  },
  {
   "cell_type": "code",
   "execution_count": null,
   "id": "68ebe227-49d0-4c35-82de-ace3645692c4",
   "metadata": {},
   "outputs": [],
   "source": []
  }
 ],
 "metadata": {
  "kernelspec": {
   "display_name": "Python 3 (ipykernel)",
   "language": "python",
   "name": "python3"
  },
  "language_info": {
   "codemirror_mode": {
    "name": "ipython",
    "version": 3
   },
   "file_extension": ".py",
   "mimetype": "text/x-python",
   "name": "python",
   "nbconvert_exporter": "python",
   "pygments_lexer": "ipython3",
   "version": "3.10.13"
  }
 },
 "nbformat": 4,
 "nbformat_minor": 5
}
